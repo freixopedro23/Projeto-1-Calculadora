{
  "nbformat": 4,
  "nbformat_minor": 0,
  "metadata": {
    "colab": {
      "provenance": []
    },
    "kernelspec": {
      "name": "python3",
      "display_name": "Python 3"
    },
    "language_info": {
      "name": "python"
    }
  },
  "cells": [
    {
      "cell_type": "markdown",
      "source": [
        "**Projeto 1: Calculadora**"
      ],
      "metadata": {
        "id": "SJ_DuKJR_GRK"
      }
    },
    {
      "cell_type": "code",
      "source": [
        "while True:\n",
        "\n",
        "    # Entrada dos valores\n",
        "    num1 = input('Digite o primeiro número: ')\n",
        "    num2 = input('Digite o segundo número: ')\n",
        "\n",
        "    # Teste para verificar se o usuário não digitou letras ao invés de números\n",
        "    try:\n",
        "      num1_float = float(num1)\n",
        "      num2_float = float(num2)\n",
        "    except ValueError:\n",
        "      print('Você digitou algum caracter errado. Tente novamente!')\n",
        "      continue\n",
        "\n",
        "    # Lógica das operações matemáticas\n",
        "    operacao = input('\\nPor favor digite o sinal da operação desejada:\\n[+]ADIÇÃO [-]SUBTRAÇÃO [*]MULTIPLIAÇÃO [/]DIVISÃO\\n')\n",
        "    valor_final = 0\n",
        "    if operacao == '+':\n",
        "      valor_final = num1_float + num2_float\n",
        "      print(f'\\nO resultado da SOMA é {valor_final:.2f}\\n')\n",
        "    elif operacao == '-':\n",
        "      valor_final = num1_float - num2_float\n",
        "      print(f'\\nO resultado da SUBTRAÇÃO é {valor_final:.2f}\\n')\n",
        "    elif operacao == '*':\n",
        "      valor_final = num1_float * num2_float\n",
        "      print(f'\\nO resultado da MULTIPLICAÇÃO é {valor_final:.2f}\\n')\n",
        "    elif operacao == '/':\n",
        "      valor_final = num1_float / num2_float\n",
        "      print(f'\\nO resultado da DIVISÃO é {valor_final:.2f}\\n')\n",
        "    else:\n",
        "      print('\\nVocê não digitou uma operação válida. Tente novamente.\\n')\n",
        "      continue\n",
        "\n",
        "    # Breaks do loop\n",
        "    decisao = input('Deseja encerrar a calculadora?\\n[S]IM [N]ÃO\\n')\n",
        "    if decisao == 'S' or decisao == 's':\n",
        "      break\n",
        "    elif decisao != 'N' and decisao != 'n':\n",
        "      print('Você digitou um caracetere inválido. Encerraremos a calculadora')\n",
        "      break"
      ],
      "metadata": {
        "colab": {
          "base_uri": "https://localhost:8080/",
          "height": 512
        },
        "id": "aVDUG9yR_IfJ",
        "outputId": "ee39175b-00e7-41b9-ddeb-fc5dc3f6f2af"
      },
      "execution_count": 36,
      "outputs": [
        {
          "output_type": "stream",
          "name": "stdout",
          "text": [
            "Digite o primeiro número: 5.0\n",
            "Digite o segundo número: 4\n",
            "\n",
            "Por favor digite o sinal da operação desejada:\n",
            "[+]ADIÇÃO [-]SUBTRAÇÃO [*]MULTIPLIAÇÃO [/]DIVISÃO\n",
            "+\n",
            "\n",
            "O resultado da SOMA é 9.00\n",
            "\n"
          ]
        },
        {
          "output_type": "error",
          "ename": "KeyboardInterrupt",
          "evalue": "Interrupted by user",
          "traceback": [
            "\u001b[0;31m---------------------------------------------------------------------------\u001b[0m",
            "\u001b[0;31mKeyboardInterrupt\u001b[0m                         Traceback (most recent call last)",
            "\u001b[0;32m<ipython-input-36-841367aa2ef1>\u001b[0m in \u001b[0;36m<cell line: 0>\u001b[0;34m()\u001b[0m\n\u001b[1;32m     34\u001b[0m \u001b[0;34m\u001b[0m\u001b[0m\n\u001b[1;32m     35\u001b[0m     \u001b[0;31m# Breaks do loop\u001b[0m\u001b[0;34m\u001b[0m\u001b[0;34m\u001b[0m\u001b[0m\n\u001b[0;32m---> 36\u001b[0;31m     \u001b[0mdecisao\u001b[0m \u001b[0;34m=\u001b[0m \u001b[0minput\u001b[0m\u001b[0;34m(\u001b[0m\u001b[0;34m'Deseja encerrar a calculadora?\\n[S]IM [N]ÃO\\n'\u001b[0m\u001b[0;34m)\u001b[0m\u001b[0;34m\u001b[0m\u001b[0;34m\u001b[0m\u001b[0m\n\u001b[0m\u001b[1;32m     37\u001b[0m     \u001b[0;32mif\u001b[0m \u001b[0mdecisao\u001b[0m \u001b[0;34m==\u001b[0m \u001b[0;34m'S'\u001b[0m \u001b[0;32mor\u001b[0m \u001b[0mdecisao\u001b[0m \u001b[0;34m==\u001b[0m \u001b[0;34m's'\u001b[0m\u001b[0;34m:\u001b[0m\u001b[0;34m\u001b[0m\u001b[0;34m\u001b[0m\u001b[0m\n\u001b[1;32m     38\u001b[0m       \u001b[0;32mbreak\u001b[0m\u001b[0;34m\u001b[0m\u001b[0;34m\u001b[0m\u001b[0m\n",
            "\u001b[0;32m/usr/local/lib/python3.11/dist-packages/ipykernel/kernelbase.py\u001b[0m in \u001b[0;36mraw_input\u001b[0;34m(self, prompt)\u001b[0m\n\u001b[1;32m   1175\u001b[0m                 \u001b[0;34m\"raw_input was called, but this frontend does not support input requests.\"\u001b[0m\u001b[0;34m\u001b[0m\u001b[0;34m\u001b[0m\u001b[0m\n\u001b[1;32m   1176\u001b[0m             )\n\u001b[0;32m-> 1177\u001b[0;31m         return self._input_request(\n\u001b[0m\u001b[1;32m   1178\u001b[0m             \u001b[0mstr\u001b[0m\u001b[0;34m(\u001b[0m\u001b[0mprompt\u001b[0m\u001b[0;34m)\u001b[0m\u001b[0;34m,\u001b[0m\u001b[0;34m\u001b[0m\u001b[0;34m\u001b[0m\u001b[0m\n\u001b[1;32m   1179\u001b[0m             \u001b[0mself\u001b[0m\u001b[0;34m.\u001b[0m\u001b[0m_parent_ident\u001b[0m\u001b[0;34m[\u001b[0m\u001b[0;34m\"shell\"\u001b[0m\u001b[0;34m]\u001b[0m\u001b[0;34m,\u001b[0m\u001b[0;34m\u001b[0m\u001b[0;34m\u001b[0m\u001b[0m\n",
            "\u001b[0;32m/usr/local/lib/python3.11/dist-packages/ipykernel/kernelbase.py\u001b[0m in \u001b[0;36m_input_request\u001b[0;34m(self, prompt, ident, parent, password)\u001b[0m\n\u001b[1;32m   1217\u001b[0m             \u001b[0;32mexcept\u001b[0m \u001b[0mKeyboardInterrupt\u001b[0m\u001b[0;34m:\u001b[0m\u001b[0;34m\u001b[0m\u001b[0;34m\u001b[0m\u001b[0m\n\u001b[1;32m   1218\u001b[0m                 \u001b[0;31m# re-raise KeyboardInterrupt, to truncate traceback\u001b[0m\u001b[0;34m\u001b[0m\u001b[0;34m\u001b[0m\u001b[0m\n\u001b[0;32m-> 1219\u001b[0;31m                 \u001b[0;32mraise\u001b[0m \u001b[0mKeyboardInterrupt\u001b[0m\u001b[0;34m(\u001b[0m\u001b[0;34m\"Interrupted by user\"\u001b[0m\u001b[0;34m)\u001b[0m \u001b[0;32mfrom\u001b[0m \u001b[0;32mNone\u001b[0m\u001b[0;34m\u001b[0m\u001b[0;34m\u001b[0m\u001b[0m\n\u001b[0m\u001b[1;32m   1220\u001b[0m             \u001b[0;32mexcept\u001b[0m \u001b[0mException\u001b[0m\u001b[0;34m:\u001b[0m\u001b[0;34m\u001b[0m\u001b[0;34m\u001b[0m\u001b[0m\n\u001b[1;32m   1221\u001b[0m                 \u001b[0mself\u001b[0m\u001b[0;34m.\u001b[0m\u001b[0mlog\u001b[0m\u001b[0;34m.\u001b[0m\u001b[0mwarning\u001b[0m\u001b[0;34m(\u001b[0m\u001b[0;34m\"Invalid Message:\"\u001b[0m\u001b[0;34m,\u001b[0m \u001b[0mexc_info\u001b[0m\u001b[0;34m=\u001b[0m\u001b[0;32mTrue\u001b[0m\u001b[0;34m)\u001b[0m\u001b[0;34m\u001b[0m\u001b[0;34m\u001b[0m\u001b[0m\n",
            "\u001b[0;31mKeyboardInterrupt\u001b[0m: Interrupted by user"
          ]
        }
      ]
    }
  ]
}
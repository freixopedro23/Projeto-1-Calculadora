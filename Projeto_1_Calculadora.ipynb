{
  "cells": [
    {
      "cell_type": "markdown",
      "metadata": {
        "id": "SJ_DuKJR_GRK"
      },
      "source": [
        "**Projeto 1: Calculadora**"
      ]
    },
    {
      "cell_type": "code",
      "execution_count": null,
      "metadata": {
        "colab": {
          "base_uri": "https://localhost:8080/",
          "height": 512
        },
        "id": "aVDUG9yR_IfJ",
        "outputId": "ee39175b-00e7-41b9-ddeb-fc5dc3f6f2af"
      },
      "outputs": [],
      "source": [
        "while True:\n",
        "\n",
        "    # Entrada dos valores\n",
        "    num1 = input('Digite o primeiro número: ')\n",
        "    num2 = input('Digite o segundo número: ')\n",
        "\n",
        "    # Teste para verificar se o usuário não digitou letras ao invés de números\n",
        "    try:\n",
        "      num1_float = float(num1)\n",
        "      num2_float = float(num2)\n",
        "    except ValueError:\n",
        "      print('Você digitou algum caracter errado. Tente novamente!')\n",
        "      continue\n",
        "\n",
        "    # Lógica das operações matemáticas\n",
        "    operacao = input('\\nPor favor digite o sinal da operação desejada:\\n[+]ADIÇÃO [-]SUBTRAÇÃO [*]MULTIPLIAÇÃO [/]DIVISÃO\\n')\n",
        "    valor_final = 0\n",
        "    if operacao == '+':\n",
        "      valor_final = num1_float + num2_float\n",
        "      print(f'\\nO resultado da SOMA é {valor_final:.2f}\\n')\n",
        "    elif operacao == '-':\n",
        "      valor_final = num1_float - num2_float\n",
        "      print(f'\\nO resultado da SUBTRAÇÃO é {valor_final:.2f}\\n')\n",
        "    elif operacao == '*':\n",
        "      valor_final = num1_float * num2_float\n",
        "      print(f'\\nO resultado da MULTIPLICAÇÃO é {valor_final:.2f}\\n')\n",
        "    elif operacao == '/':\n",
        "      valor_final = num1_float / num2_float\n",
        "      print(f'\\nO resultado da DIVISÃO é {valor_final:.2f}\\n')\n",
        "    else:\n",
        "      print('\\nVocê não digitou uma operação válida. Tente novamente.\\n')\n",
        "      continue\n",
        "\n",
        "    # Breaks do loop\n",
        "    decisao = input('Deseja encerrar a calculadora?\\n[S]IM [N]ÃO\\n')\n",
        "    if decisao == 'S' or decisao == 's':\n",
        "      break\n",
        "    elif decisao != 'N' and decisao != 'n':\n",
        "      print('Você digitou um caracetere inválido. Encerraremos a calculadora')\n",
        "      break"
      ]
    }
  ],
  "metadata": {
    "colab": {
      "provenance": []
    },
    "kernelspec": {
      "display_name": "base",
      "language": "python",
      "name": "python3"
    },
    "language_info": {
      "name": "python",
      "version": "3.12.9"
    }
  },
  "nbformat": 4,
  "nbformat_minor": 0
}
